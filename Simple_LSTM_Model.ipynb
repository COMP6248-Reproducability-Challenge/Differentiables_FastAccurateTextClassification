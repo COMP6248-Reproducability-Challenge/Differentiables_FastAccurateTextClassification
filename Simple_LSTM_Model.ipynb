{
  "nbformat": 4,
  "nbformat_minor": 0,
  "metadata": {
    "colab": {
      "name": "Simple_LSTM.ipynb",
      "version": "0.3.2",
      "provenance": [],
      "collapsed_sections": [],
      "toc_visible": true
    },
    "kernelspec": {
      "name": "python3",
      "display_name": "Python 3"
    },
    "accelerator": "GPU"
  },
  "cells": [
    {
      "cell_type": "code",
      "metadata": {
        "id": "RhlVjbx-Zh9Q",
        "colab_type": "code",
        "colab": {}
      },
      "source": [
        "# Execute this code block to install dependencies when running on colab\n",
        "try:\n",
        "    import torch\n",
        "except:\n",
        "    from os.path import exists\n",
        "    from wheel.pep425tags import get_abbr_impl, get_impl_ver, get_abi_tag\n",
        "    platform = '{}{}-{}'.format(get_abbr_impl(), get_impl_ver(), get_abi_tag())\n",
        "    cuda_output = !ldconfig -p|grep cudart.so|sed -e 's/.*\\.\\([0-9]*\\)\\.\\([0-9]*\\)$/cu\\1\\2/'\n",
        "    accelerator = cuda_output[0] if exists('/dev/nvidia0') else 'cpu'\n",
        "\n",
        "    !pip install -q http://download.pytorch.org/whl/{accelerator}/torch-1.0.0-{platform}-linux_x86_64.whl torchvision\n",
        "    ! pip install --upgrade git+https://github.com/sovrasov/flops-counter.pytorch.git\n",
        "\n",
        "try:\n",
        "    import torchtext\n",
        "except:\n",
        "    !pip install torchtext\n",
        "    \n",
        "try:\n",
        "    import spacy\n",
        "except:\n",
        "    !pip install spacy\n",
        "    \n",
        "try:\n",
        "    spacy.load('en')\n",
        "except:\n",
        "    !python -m spacy download en"
      ],
      "execution_count": 0,
      "outputs": []
    },
    {
      "cell_type": "markdown",
      "metadata": {
        "id": "4wovb26Yr1Uk",
        "colab_type": "text"
      },
      "source": [
        "# Data loading and preprocessing"
      ]
    },
    {
      "cell_type": "code",
      "metadata": {
        "id": "j-T4VsjoZlYt",
        "colab_type": "code",
        "colab": {}
      },
      "source": [
        "import torch\n",
        "from torchtext import data\n",
        "import torch.nn.functional as F\n",
        "from torch import nn\n",
        "from torch import optim\n",
        "from torch.distributions import Categorical\n",
        "from torchtext import datasets\n",
        "\n",
        "import random\n",
        "import numpy as np\n",
        "import os.path"
      ],
      "execution_count": 0,
      "outputs": []
    },
    {
      "cell_type": "code",
      "metadata": {
        "id": "i9C3tPlZZrBG",
        "colab_type": "code",
        "colab": {}
      },
      "source": [
        "TEXT = data.Field(tokenize='spacy', lower=True, include_lengths=True)\n",
        "LABEL = data.LabelField(dtype=torch.float)\n",
        "_train_data, test_data = datasets.IMDB.splits(TEXT, LABEL)"
      ],
      "execution_count": 0,
      "outputs": []
    },
    {
      "cell_type": "code",
      "metadata": {
        "id": "anWyjQAwZrvi",
        "colab_type": "code",
        "outputId": "3cd1d7e7-6d16-4336-fada-6ca57c0d7b0c",
        "colab": {
          "base_uri": "https://localhost:8080/",
          "height": 67
        }
      },
      "source": [
        "train_data, valid_data = _train_data.split(0.8)\n",
        "\n",
        "print(f'Number of training examples: {len(train_data)}')\n",
        "print(f'Number of validation examples: {len(valid_data)}')\n",
        "print(f'Number of testing examples: {len(test_data)}')"
      ],
      "execution_count": 4,
      "outputs": [
        {
          "output_type": "stream",
          "text": [
            "Number of training examples: 20000\n",
            "Number of validation examples: 5000\n",
            "Number of testing examples: 25000\n"
          ],
          "name": "stdout"
        }
      ]
    },
    {
      "cell_type": "code",
      "metadata": {
        "id": "tjjynYwDcgBj",
        "colab_type": "code",
        "outputId": "dfbbac24-c004-46be-9ae9-e6110f921fa8",
        "colab": {
          "base_uri": "https://localhost:8080/",
          "height": 50
        }
      },
      "source": [
        "TEXT.build_vocab(train_data, max_size=100000, vectors=\"glove.6B.100d\")\n",
        "LABEL.build_vocab(train_data)\n",
        "\n",
        "print(f\"Unique tokens in TEXT vocabulary: {len(TEXT.vocab)}\")\n",
        "print(f\"Unique tokens in LABEL vocabulary: {len(LABEL.vocab)}\")"
      ],
      "execution_count": 5,
      "outputs": [
        {
          "output_type": "stream",
          "text": [
            "Unique tokens in TEXT vocabulary: 91454\n",
            "Unique tokens in LABEL vocabulary: 2\n"
          ],
          "name": "stdout"
        }
      ]
    },
    {
      "cell_type": "code",
      "metadata": {
        "id": "SoSIIOpmlhsR",
        "colab_type": "code",
        "outputId": "76a3859a-b043-4e3b-d8aa-d6eabc9a2564",
        "colab": {
          "base_uri": "https://localhost:8080/",
          "height": 34
        }
      },
      "source": [
        "device = torch.device('cuda:0' if torch.cuda.is_available() else 'cpu')\n",
        "device = 'cpu'\n",
        "# Assume that we are on a CUDA machine, then this should print a CUDA device:\n",
        "\n",
        "print(device)"
      ],
      "execution_count": 6,
      "outputs": [
        {
          "output_type": "stream",
          "text": [
            "cpu\n"
          ],
          "name": "stdout"
        }
      ]
    },
    {
      "cell_type": "markdown",
      "metadata": {
        "id": "TJ-krEODTunN",
        "colab_type": "text"
      },
      "source": [
        "# Model and training"
      ]
    },
    {
      "cell_type": "code",
      "metadata": {
        "id": "wQnA9EazmYT9",
        "colab_type": "code",
        "colab": {}
      },
      "source": [
        "BATCH_SIZE = 50\n",
        "\n",
        "train_iterator, valid_iterator, test_iterator = data.BucketIterator.splits(\n",
        "    (train_data, valid_data, test_data), \n",
        "    batch_size=BATCH_SIZE,\n",
        "    device=device,\n",
        "    shuffle = False,\n",
        "    sort_key=lambda x: len(x.text),\n",
        "    sort_within_batch=True)"
      ],
      "execution_count": 0,
      "outputs": []
    },
    {
      "cell_type": "code",
      "metadata": {
        "id": "iis6f53adVHR",
        "colab_type": "code",
        "colab": {}
      },
      "source": [
        "def reward_function(prob, true_label):\n",
        "    \"\"\"\n",
        "    Returns 1 if correct prediction, -1 otherwise\n",
        "    \"\"\"\n",
        "    # print(\"true_label\", \"prob\", true_label, prob)\n",
        "    if prob>0.5 and true_label>0.5:\n",
        "        return torch.tensor(1.0, requires_grad=True)\n",
        "    if prob<0.5 and true_label<0.5:\n",
        "        return torch.tensor(1.0, requires_grad=True)\n",
        "    return torch.tensor(-1.0, requires_grad=True)\n",
        "\n",
        "class SimpleModel(nn.Module):\n",
        "    def __init__(self, input_dim, embedding_dim, hidden_dim, output_dim, gamma=0.99, train_mode=True):\n",
        "        super().__init__()\n",
        "        \n",
        "        # store dimensions and constants\n",
        "        self.input_dim = input_dim\n",
        "        self.embedding_dim = embedding_dim\n",
        "        self.hidden_dim = hidden_dim\n",
        "        self.output_dim = output_dim\n",
        "        self.train_mode = True\n",
        "        \n",
        "        # create layers\n",
        "        self.embedding = nn.Embedding(input_dim, embedding_dim)\n",
        "        self.lstm_cell = nn.LSTMCell(input_size = embedding_dim, hidden_size = hidden_dim, bias = True)\n",
        "        self.output_linear = nn.Linear(hidden_dim, output_dim)\n",
        "\n",
        "        # Initialize lstm_cell states\n",
        "        self.initialize_lstm_cell_states()\n",
        "        \n",
        "        # Initalize episode number and time number\n",
        "        self.initialize_for_new_batch()\n",
        "        self.initialize_time_number()\n",
        "        \n",
        "        # Overall reward and loss history\n",
        "        self.reward_history = []\n",
        "        self.loss_history = []\n",
        "        self.training_accuracies = []\n",
        "        self.validation_accuracies = []\n",
        "        \n",
        "        # torch.tensor((0.0), requires_grad=True) \n",
        "    \n",
        "    def initialize_lstm_cell_states(self):\n",
        "        self.c = torch.zeros(1, self.hidden_dim, requires_grad=True)\n",
        "        self.h = torch.zeros(1, self.hidden_dim, requires_grad=True)\n",
        "        \n",
        "    def initialize_episode_number(self):\n",
        "        self.ep = 0\n",
        "    \n",
        "    def initialize_time_number(self):\n",
        "        self.t = 0\n",
        "    \n",
        "    def clear_batch_lists(self):\n",
        "        del self.label_targets[:]\n",
        "        del self.label_predictions[:]\n",
        "        self.initialize_episode_number()\n",
        "        self.training_accuracy = 0.0\n",
        "    \n",
        "    def initialize_for_new_batch(self):\n",
        "        \"\"\"\n",
        "        Cleans history of log probabilities, rewards, targets etc for the last\n",
        "        batch\n",
        "        \"\"\"\n",
        "        self.initialize_episode_number()\n",
        "        \n",
        "        # Episode policy and reward history \n",
        "\n",
        "        # Predictions and targets history (for cross entropy loss calculation)\n",
        "        self.label_predictions = [] # 1 probability for each episode\n",
        "        self.label_targets = []# 1 label for each episode\n",
        "        self.training_accuracy = 0.0\n",
        "\n",
        "        \n",
        "    def classify(self):\n",
        "        out = self.output_linear(self.c[0])\n",
        "        self.label_predictions.append(out)\n",
        "        # return torch.sigmoid(out)\n",
        "    \n",
        "    def save_training_accuracy(self):\n",
        "        correct = 0\n",
        "        for (t, p) in zip(self.label_targets, self.label_predictions):\n",
        "            if reward_function(p, t) > 0:\n",
        "                correct += 1\n",
        "        self.training_accuracy = correct/len(self.label_targets)\n",
        "        self.training_accuracies.append(self.training_accuracy)\n",
        "      \n",
        "    \n",
        "    def forward(self, pack):\n",
        "        texts, lengths, labels = pack\n",
        "        embeddeds = self.embedding(texts)\n",
        "        # embeddeds = nn.utils.rnn.pack_padded_sequence(embeddeds, lengths)\n",
        "        self.initialize_for_new_batch()\n",
        "\n",
        "        for episode_number in range(embeddeds.shape[1]):\n",
        "            \n",
        "            # load episode data\n",
        "            self.ep = episode_number\n",
        "            embedded = embeddeds[:, self.ep, :]\n",
        "      \n",
        "            #print(texts.shape, embeddeds.shape, embedded.shape)\n",
        "            #print(label)\n",
        "            \n",
        "            # initialize counters and index\n",
        "            tokens_read = 0\n",
        "            word_index = 0\n",
        "            words_len = embedded.shape[0]\n",
        "            self.initialize_lstm_cell_states()\n",
        "            self.initialize_time_number()\n",
        "            \n",
        "            if self.train_mode:\n",
        "                label = labels[self.ep].reshape(1)\n",
        "                self.label_targets.append(label)\n",
        "            \n",
        "                # start iterating through sequence, while skipping some words\n",
        "                while word_index<words_len:\n",
        "                    self.t += 1\n",
        "                    embedded_word = embedded[word_index]\n",
        "\n",
        "                     # generate next lstm cell state\n",
        "                    self.h, self.c = self.lstm_cell(torch.reshape(embedded_word, (1, -1)), (self.h, self.c))\n",
        "                    word_index += 1\n",
        "                    # print('word_index', word_index, 'tokens_read', tokens_read, 'jumps_made', jumps_made)\n",
        "              \n",
        "                    # if time to jump words\n",
        "                self.classify()\n",
        "        if self.train_mode:\n",
        "            self.save_training_accuracy()\n",
        "        return self.label_predictions \n",
        "      "
      ],
      "execution_count": 0,
      "outputs": []
    },
    {
      "cell_type": "code",
      "metadata": {
        "id": "ZyrocBqSF98w",
        "colab_type": "code",
        "colab": {}
      },
      "source": [
        "INPUT_DIM = len(TEXT.vocab)\n",
        "EMBEDDING_DIM = 100\n",
        "HIDDEN_DIM = 128\n",
        "OUTPUT_DIM = 1\n",
        "\n",
        "seed = 7\n",
        "torch.manual_seed(seed)\n",
        "torch.backends.cudnn.deterministic = True\n",
        "torch.backends.cudnn.benchmark = False\n",
        "np.random.seed(seed)\n",
        "\n",
        "bce = nn.BCEWithLogitsLoss(reduction='mean')\n",
        "simple_model = SimpleModel(INPUT_DIM, EMBEDDING_DIM, HIDDEN_DIM, OUTPUT_DIM).to(device)\n",
        "pretrained_embeddings = TEXT.vocab.vectors\n",
        "simple_model.embedding.weight.data.copy_(pretrained_embeddings)\n",
        "\n",
        "if os.path.exists('simple_model.weights'):\n",
        "    simple_model.load_state_dict(torch.load('simple_model.weights'))\n",
        "\n",
        "# define the optimiser\n",
        "optimizer = optim.Adam(simple_model.parameters(), lr=0.01)"
      ],
      "execution_count": 0,
      "outputs": []
    },
    {
      "cell_type": "code",
      "metadata": {
        "id": "P9A3CLqzugLZ",
        "colab_type": "code",
        "colab": {}
      },
      "source": [
        "def update_policy():\n",
        "   \n",
        "    #print(len(policy_model.rewards), len(policy_model.label_predictions), len(policy_model.label_targets))\n",
        "    #print(len(policy_model.saved_log_probs), len(policy_model.reward_baselines))\n",
        "    \n",
        "    J1 = bce(\n",
        "        torch.cat(simple_model.label_predictions),\n",
        "        torch.cat(simple_model.label_targets)\n",
        "    )\n",
        "    \n",
        "    optimizer.zero_grad()\n",
        "    # print('policy_loss', policy_loss)\n",
        "    J1.backward(retain_graph=True)\n",
        "    optimizer.step()\n",
        "    \n",
        "    simple_model.clear_batch_lists()"
      ],
      "execution_count": 0,
      "outputs": []
    },
    {
      "cell_type": "code",
      "metadata": {
        "id": "B-mGeEeZZgRf",
        "colab_type": "code",
        "colab": {}
      },
      "source": [
        "def test_model():\n",
        "    simple_model.train_mode = True\n",
        "    correct = 0\n",
        "    total=0\n",
        "    for _data in test_iterator:\n",
        "        # get the inputs\n",
        "        texts, text_lengths, labels = _data.text[0], _data.text[1], _data.label\n",
        "        # print(\"Input review texts, text_lengths, labels\", texts.shape, text_lengths.shape, labels.shape)\n",
        "        predictions = simple_model((texts.to(device), text_lengths.to(device), labels.to(device)))\n",
        "        for (prediction, label) in zip(predictions, labels):\n",
        "            if reward_function(label, prediction) > 0:\n",
        "                correct += 1\n",
        "            total += 1\n",
        "        if total%1000 == 0:\n",
        "            print(total)\n",
        "        if total%5000 == 0:\n",
        "            break\n",
        "    print(\"Test accuracy :\", correct/total)\n",
        "    simple_model.train_mode = True\n",
        "    return correct/total\n",
        "\n",
        "def validate_model():\n",
        "    simple_model.train_mode = True\n",
        "    correct = 0\n",
        "    total=0\n",
        "    for _data in valid_iterator:\n",
        "        # get the inputs\n",
        "        texts, text_lengths, labels = _data.text[0], _data.text[1], _data.label\n",
        "        # print(\"Input review texts, text_lengths, labels\", texts.shape, text_lengths.shape, labels.shape)\n",
        "        predictions = simple_model((texts.to(device), text_lengths.to(device), labels.to(device)))\n",
        "        for (prediction, label) in zip(predictions, labels):\n",
        "            if reward_function(label, prediction) > 0:\n",
        "                correct += 1\n",
        "            total += 1\n",
        "        if total%1000 == 0:\n",
        "            break\n",
        "    print(\"Validation accuracy :\", correct/total)\n",
        "    simple_model.validation_accuracies.append(correct/total)\n",
        "    simple_model.train_mode = True\n",
        "    return correct/total\n",
        "\n",
        "# test_model()"
      ],
      "execution_count": 0,
      "outputs": []
    },
    {
      "cell_type": "code",
      "metadata": {
        "id": "grN0kN4pL1BX",
        "colab_type": "code",
        "outputId": "b9bbe20a-b920-493e-933c-9d63399bfbb6",
        "colab": {
          "base_uri": "https://localhost:8080/",
          "height": 3344
        }
      },
      "source": [
        "# the epoch loop\n",
        "\n",
        "with torch.enable_grad():\n",
        "    validate_model()\n",
        "    for epoch in range(5):\n",
        "        running_reward = 10\n",
        "        t = 0\n",
        "        for _data in train_iterator:\n",
        "            # get the inputs\n",
        "            texts, text_lengths, labels = _data.text[0], _data.text[1], _data.label\n",
        "            # print(\"Input review texts, text_lengths, labels\", texts.shape, text_lengths.shape, labels.shape)\n",
        "            prediction = simple_model((texts.to(device), text_lengths.to(device), labels.to(device)))\n",
        "            # print(\"Prediction\", prediction.item())        \n",
        "            # raise ValueError('Not done')\n",
        "            t += 1\n",
        "            if t%2 == 0:\n",
        "                print(\"batch no. %d, training accuracy %4.2f\" % (t, simple_model.training_accuracy))\n",
        "            if t%10 == 0:\n",
        "                validate_model()\n",
        "            if t%1000 == 0:\n",
        "                break\n",
        "            update_policy()\n",
        "        print(\"Epoch %d\" % (epoch))\n",
        "    print('**** Finished Training ****')\n",
        "# test_model()"
      ],
      "execution_count": 33,
      "outputs": [
        {
          "output_type": "stream",
          "text": [
            "Validation accuracy : 0.449\n",
            "batch no. 2, training accuracy 0.54\n",
            "batch no. 4, training accuracy 0.36\n",
            "batch no. 6, training accuracy 0.40\n",
            "batch no. 8, training accuracy 0.36\n",
            "batch no. 10, training accuracy 0.46\n",
            "Validation accuracy : 0.45\n",
            "batch no. 12, training accuracy 0.58\n",
            "batch no. 14, training accuracy 0.48\n",
            "batch no. 16, training accuracy 0.44\n",
            "batch no. 18, training accuracy 0.56\n",
            "batch no. 20, training accuracy 0.50\n",
            "Validation accuracy : 0.449\n",
            "batch no. 22, training accuracy 0.56\n",
            "batch no. 24, training accuracy 0.58\n",
            "batch no. 26, training accuracy 0.54\n",
            "batch no. 28, training accuracy 0.50\n",
            "batch no. 30, training accuracy 0.48\n",
            "Validation accuracy : 0.449\n",
            "batch no. 32, training accuracy 0.74\n",
            "batch no. 34, training accuracy 0.50\n",
            "batch no. 36, training accuracy 0.38\n",
            "batch no. 38, training accuracy 0.44\n",
            "batch no. 40, training accuracy 0.52\n",
            "Validation accuracy : 0.449\n",
            "batch no. 42, training accuracy 0.50\n",
            "batch no. 44, training accuracy 0.54\n",
            "batch no. 46, training accuracy 0.56\n",
            "batch no. 48, training accuracy 0.50\n",
            "batch no. 50, training accuracy 0.42\n",
            "Validation accuracy : 0.453\n",
            "batch no. 52, training accuracy 0.46\n",
            "batch no. 54, training accuracy 0.60\n",
            "batch no. 56, training accuracy 0.48\n",
            "batch no. 58, training accuracy 0.58\n",
            "batch no. 60, training accuracy 0.64\n",
            "Validation accuracy : 0.455\n",
            "batch no. 62, training accuracy 0.44\n",
            "batch no. 64, training accuracy 0.70\n",
            "batch no. 66, training accuracy 0.64\n",
            "batch no. 68, training accuracy 0.62\n",
            "batch no. 70, training accuracy 0.62\n",
            "Validation accuracy : 0.601\n",
            "batch no. 72, training accuracy 0.76\n",
            "batch no. 74, training accuracy 0.50\n",
            "batch no. 76, training accuracy 0.48\n",
            "batch no. 78, training accuracy 0.62\n",
            "batch no. 80, training accuracy 0.74\n",
            "Validation accuracy : 0.732\n",
            "batch no. 82, training accuracy 0.38\n",
            "batch no. 84, training accuracy 0.58\n",
            "batch no. 86, training accuracy 0.56\n",
            "batch no. 88, training accuracy 0.62\n",
            "batch no. 90, training accuracy 0.48\n",
            "Validation accuracy : 0.519\n",
            "batch no. 92, training accuracy 0.68\n",
            "batch no. 94, training accuracy 0.58\n",
            "batch no. 96, training accuracy 0.56\n",
            "batch no. 98, training accuracy 0.42\n",
            "batch no. 100, training accuracy 0.50\n",
            "Validation accuracy : 0.543\n",
            "batch no. 102, training accuracy 0.44\n",
            "batch no. 104, training accuracy 0.54\n",
            "batch no. 106, training accuracy 0.40\n",
            "batch no. 108, training accuracy 0.44\n",
            "batch no. 110, training accuracy 0.38\n",
            "Validation accuracy : 0.462\n",
            "batch no. 112, training accuracy 0.56\n",
            "batch no. 114, training accuracy 0.48\n",
            "batch no. 116, training accuracy 0.34\n",
            "batch no. 118, training accuracy 0.52\n",
            "batch no. 120, training accuracy 0.50\n",
            "Validation accuracy : 0.484\n",
            "batch no. 122, training accuracy 0.52\n",
            "batch no. 124, training accuracy 0.58\n",
            "batch no. 126, training accuracy 0.56\n",
            "batch no. 128, training accuracy 0.48\n",
            "batch no. 130, training accuracy 0.66\n",
            "Validation accuracy : 0.604\n",
            "batch no. 132, training accuracy 0.70\n",
            "batch no. 134, training accuracy 0.54\n",
            "batch no. 136, training accuracy 0.70\n",
            "batch no. 138, training accuracy 0.68\n",
            "batch no. 140, training accuracy 0.70\n",
            "Validation accuracy : 0.565\n",
            "batch no. 142, training accuracy 0.78\n",
            "batch no. 144, training accuracy 0.66\n",
            "batch no. 146, training accuracy 0.72\n",
            "batch no. 148, training accuracy 0.76\n",
            "batch no. 150, training accuracy 0.92\n",
            "Validation accuracy : 0.739\n",
            "batch no. 152, training accuracy 0.88\n",
            "batch no. 154, training accuracy 0.84\n",
            "batch no. 156, training accuracy 0.78\n",
            "batch no. 158, training accuracy 0.76\n",
            "batch no. 160, training accuracy 0.80\n",
            "Validation accuracy : 0.836\n",
            "batch no. 162, training accuracy 0.76\n",
            "batch no. 164, training accuracy 0.76\n",
            "batch no. 166, training accuracy 0.82\n",
            "batch no. 168, training accuracy 0.82\n",
            "batch no. 170, training accuracy 0.88\n",
            "Validation accuracy : 0.841\n",
            "batch no. 172, training accuracy 0.82\n",
            "batch no. 174, training accuracy 0.82\n",
            "batch no. 176, training accuracy 0.86\n",
            "batch no. 178, training accuracy 0.86\n",
            "batch no. 180, training accuracy 0.84\n",
            "Validation accuracy : 0.826\n",
            "batch no. 182, training accuracy 0.96\n",
            "batch no. 184, training accuracy 0.88\n",
            "batch no. 186, training accuracy 0.84\n",
            "batch no. 188, training accuracy 0.68\n",
            "batch no. 190, training accuracy 0.86\n",
            "Validation accuracy : 0.803\n",
            "batch no. 192, training accuracy 0.72\n",
            "batch no. 194, training accuracy 0.84\n",
            "batch no. 196, training accuracy 0.78\n",
            "batch no. 198, training accuracy 0.88\n",
            "batch no. 200, training accuracy 0.54\n",
            "Validation accuracy : 0.784\n",
            "batch no. 202, training accuracy 0.78\n",
            "batch no. 204, training accuracy 0.82\n",
            "batch no. 206, training accuracy 0.90\n",
            "batch no. 208, training accuracy 0.84\n",
            "batch no. 210, training accuracy 0.84\n",
            "Validation accuracy : 0.846\n",
            "batch no. 212, training accuracy 0.84\n",
            "batch no. 214, training accuracy 0.82\n",
            "batch no. 216, training accuracy 0.82\n",
            "batch no. 218, training accuracy 0.84\n",
            "batch no. 220, training accuracy 0.94\n",
            "Validation accuracy : 0.826\n",
            "batch no. 222, training accuracy 0.88\n",
            "batch no. 224, training accuracy 0.82\n",
            "batch no. 226, training accuracy 0.86\n",
            "batch no. 228, training accuracy 0.78\n",
            "batch no. 230, training accuracy 0.84\n",
            "Validation accuracy : 0.793\n",
            "batch no. 232, training accuracy 0.88\n",
            "batch no. 234, training accuracy 0.84\n",
            "batch no. 236, training accuracy 0.84\n",
            "batch no. 238, training accuracy 0.86\n",
            "batch no. 240, training accuracy 0.82\n",
            "Validation accuracy : 0.851\n",
            "batch no. 242, training accuracy 0.84\n",
            "batch no. 244, training accuracy 0.86\n",
            "batch no. 246, training accuracy 0.78\n",
            "batch no. 248, training accuracy 0.82\n",
            "batch no. 250, training accuracy 0.86\n",
            "Validation accuracy : 0.837\n",
            "batch no. 252, training accuracy 0.80\n",
            "batch no. 254, training accuracy 0.88\n",
            "batch no. 256, training accuracy 0.80\n",
            "batch no. 258, training accuracy 0.90\n",
            "batch no. 260, training accuracy 0.88\n",
            "Validation accuracy : 0.861\n",
            "batch no. 262, training accuracy 0.84\n",
            "batch no. 264, training accuracy 0.84\n",
            "batch no. 266, training accuracy 0.86\n",
            "batch no. 268, training accuracy 0.90\n",
            "batch no. 270, training accuracy 0.88\n",
            "Validation accuracy : 0.841\n",
            "batch no. 272, training accuracy 0.92\n",
            "batch no. 274, training accuracy 0.88\n",
            "batch no. 276, training accuracy 0.86\n",
            "batch no. 278, training accuracy 0.76\n",
            "batch no. 280, training accuracy 0.86\n",
            "Validation accuracy : 0.842\n",
            "batch no. 282, training accuracy 0.90\n",
            "batch no. 284, training accuracy 0.90\n",
            "batch no. 286, training accuracy 0.92\n",
            "batch no. 288, training accuracy 0.86\n",
            "batch no. 290, training accuracy 0.86\n",
            "Validation accuracy : 0.857\n",
            "batch no. 292, training accuracy 0.86\n",
            "batch no. 294, training accuracy 0.90\n"
          ],
          "name": "stdout"
        },
        {
          "output_type": "error",
          "ename": "KeyboardInterrupt",
          "evalue": "ignored",
          "traceback": [
            "\u001b[0;31m---------------------------------------------------------------------------\u001b[0m",
            "\u001b[0;31mKeyboardInterrupt\u001b[0m                         Traceback (most recent call last)",
            "\u001b[0;32m<ipython-input-33-28de1bbb3b79>\u001b[0m in \u001b[0;36m<module>\u001b[0;34m()\u001b[0m\n\u001b[1;32m      9\u001b[0m             \u001b[0mtexts\u001b[0m\u001b[0;34m,\u001b[0m \u001b[0mtext_lengths\u001b[0m\u001b[0;34m,\u001b[0m \u001b[0mlabels\u001b[0m \u001b[0;34m=\u001b[0m \u001b[0m_data\u001b[0m\u001b[0;34m.\u001b[0m\u001b[0mtext\u001b[0m\u001b[0;34m[\u001b[0m\u001b[0;36m0\u001b[0m\u001b[0;34m]\u001b[0m\u001b[0;34m,\u001b[0m \u001b[0m_data\u001b[0m\u001b[0;34m.\u001b[0m\u001b[0mtext\u001b[0m\u001b[0;34m[\u001b[0m\u001b[0;36m1\u001b[0m\u001b[0;34m]\u001b[0m\u001b[0;34m,\u001b[0m \u001b[0m_data\u001b[0m\u001b[0;34m.\u001b[0m\u001b[0mlabel\u001b[0m\u001b[0;34m\u001b[0m\u001b[0;34m\u001b[0m\u001b[0m\n\u001b[1;32m     10\u001b[0m             \u001b[0;31m# print(\"Input review texts, text_lengths, labels\", texts.shape, text_lengths.shape, labels.shape)\u001b[0m\u001b[0;34m\u001b[0m\u001b[0;34m\u001b[0m\u001b[0;34m\u001b[0m\u001b[0m\n\u001b[0;32m---> 11\u001b[0;31m             \u001b[0mprediction\u001b[0m \u001b[0;34m=\u001b[0m \u001b[0msimple_model\u001b[0m\u001b[0;34m(\u001b[0m\u001b[0;34m(\u001b[0m\u001b[0mtexts\u001b[0m\u001b[0;34m.\u001b[0m\u001b[0mto\u001b[0m\u001b[0;34m(\u001b[0m\u001b[0mdevice\u001b[0m\u001b[0;34m)\u001b[0m\u001b[0;34m,\u001b[0m \u001b[0mtext_lengths\u001b[0m\u001b[0;34m.\u001b[0m\u001b[0mto\u001b[0m\u001b[0;34m(\u001b[0m\u001b[0mdevice\u001b[0m\u001b[0;34m)\u001b[0m\u001b[0;34m,\u001b[0m \u001b[0mlabels\u001b[0m\u001b[0;34m.\u001b[0m\u001b[0mto\u001b[0m\u001b[0;34m(\u001b[0m\u001b[0mdevice\u001b[0m\u001b[0;34m)\u001b[0m\u001b[0;34m)\u001b[0m\u001b[0;34m)\u001b[0m\u001b[0;34m\u001b[0m\u001b[0;34m\u001b[0m\u001b[0m\n\u001b[0m\u001b[1;32m     12\u001b[0m             \u001b[0;31m# print(\"Prediction\", prediction.item())\u001b[0m\u001b[0;34m\u001b[0m\u001b[0;34m\u001b[0m\u001b[0;34m\u001b[0m\u001b[0m\n\u001b[1;32m     13\u001b[0m             \u001b[0;31m# raise ValueError('Not done')\u001b[0m\u001b[0;34m\u001b[0m\u001b[0;34m\u001b[0m\u001b[0;34m\u001b[0m\u001b[0m\n",
            "\u001b[0;32m/usr/local/lib/python3.6/dist-packages/torch/nn/modules/module.py\u001b[0m in \u001b[0;36m__call__\u001b[0;34m(self, *input, **kwargs)\u001b[0m\n\u001b[1;32m    491\u001b[0m             \u001b[0mresult\u001b[0m \u001b[0;34m=\u001b[0m \u001b[0mself\u001b[0m\u001b[0;34m.\u001b[0m\u001b[0m_slow_forward\u001b[0m\u001b[0;34m(\u001b[0m\u001b[0;34m*\u001b[0m\u001b[0minput\u001b[0m\u001b[0;34m,\u001b[0m \u001b[0;34m**\u001b[0m\u001b[0mkwargs\u001b[0m\u001b[0;34m)\u001b[0m\u001b[0;34m\u001b[0m\u001b[0;34m\u001b[0m\u001b[0m\n\u001b[1;32m    492\u001b[0m         \u001b[0;32melse\u001b[0m\u001b[0;34m:\u001b[0m\u001b[0;34m\u001b[0m\u001b[0;34m\u001b[0m\u001b[0m\n\u001b[0;32m--> 493\u001b[0;31m             \u001b[0mresult\u001b[0m \u001b[0;34m=\u001b[0m \u001b[0mself\u001b[0m\u001b[0;34m.\u001b[0m\u001b[0mforward\u001b[0m\u001b[0;34m(\u001b[0m\u001b[0;34m*\u001b[0m\u001b[0minput\u001b[0m\u001b[0;34m,\u001b[0m \u001b[0;34m**\u001b[0m\u001b[0mkwargs\u001b[0m\u001b[0;34m)\u001b[0m\u001b[0;34m\u001b[0m\u001b[0;34m\u001b[0m\u001b[0m\n\u001b[0m\u001b[1;32m    494\u001b[0m         \u001b[0;32mfor\u001b[0m \u001b[0mhook\u001b[0m \u001b[0;32min\u001b[0m \u001b[0mself\u001b[0m\u001b[0;34m.\u001b[0m\u001b[0m_forward_hooks\u001b[0m\u001b[0;34m.\u001b[0m\u001b[0mvalues\u001b[0m\u001b[0;34m(\u001b[0m\u001b[0;34m)\u001b[0m\u001b[0;34m:\u001b[0m\u001b[0;34m\u001b[0m\u001b[0;34m\u001b[0m\u001b[0m\n\u001b[1;32m    495\u001b[0m             \u001b[0mhook_result\u001b[0m \u001b[0;34m=\u001b[0m \u001b[0mhook\u001b[0m\u001b[0;34m(\u001b[0m\u001b[0mself\u001b[0m\u001b[0;34m,\u001b[0m \u001b[0minput\u001b[0m\u001b[0;34m,\u001b[0m \u001b[0mresult\u001b[0m\u001b[0;34m)\u001b[0m\u001b[0;34m\u001b[0m\u001b[0;34m\u001b[0m\u001b[0m\n",
            "\u001b[0;32m<ipython-input-29-b963e4cf8b3e>\u001b[0m in \u001b[0;36mforward\u001b[0;34m(self, pack)\u001b[0m\n\u001b[1;32m    118\u001b[0m \u001b[0;34m\u001b[0m\u001b[0m\n\u001b[1;32m    119\u001b[0m                      \u001b[0;31m# generate next lstm cell state\u001b[0m\u001b[0;34m\u001b[0m\u001b[0;34m\u001b[0m\u001b[0;34m\u001b[0m\u001b[0m\n\u001b[0;32m--> 120\u001b[0;31m                     \u001b[0mself\u001b[0m\u001b[0;34m.\u001b[0m\u001b[0mh\u001b[0m\u001b[0;34m,\u001b[0m \u001b[0mself\u001b[0m\u001b[0;34m.\u001b[0m\u001b[0mc\u001b[0m \u001b[0;34m=\u001b[0m \u001b[0mself\u001b[0m\u001b[0;34m.\u001b[0m\u001b[0mlstm_cell\u001b[0m\u001b[0;34m(\u001b[0m\u001b[0mtorch\u001b[0m\u001b[0;34m.\u001b[0m\u001b[0mreshape\u001b[0m\u001b[0;34m(\u001b[0m\u001b[0membedded_word\u001b[0m\u001b[0;34m,\u001b[0m \u001b[0;34m(\u001b[0m\u001b[0;36m1\u001b[0m\u001b[0;34m,\u001b[0m \u001b[0;34m-\u001b[0m\u001b[0;36m1\u001b[0m\u001b[0;34m)\u001b[0m\u001b[0;34m)\u001b[0m\u001b[0;34m,\u001b[0m \u001b[0;34m(\u001b[0m\u001b[0mself\u001b[0m\u001b[0;34m.\u001b[0m\u001b[0mh\u001b[0m\u001b[0;34m,\u001b[0m \u001b[0mself\u001b[0m\u001b[0;34m.\u001b[0m\u001b[0mc\u001b[0m\u001b[0;34m)\u001b[0m\u001b[0;34m)\u001b[0m\u001b[0;34m\u001b[0m\u001b[0;34m\u001b[0m\u001b[0m\n\u001b[0m\u001b[1;32m    121\u001b[0m                     \u001b[0mword_index\u001b[0m \u001b[0;34m+=\u001b[0m \u001b[0;36m1\u001b[0m\u001b[0;34m\u001b[0m\u001b[0;34m\u001b[0m\u001b[0m\n\u001b[1;32m    122\u001b[0m                     \u001b[0;31m# print('word_index', word_index, 'tokens_read', tokens_read, 'jumps_made', jumps_made)\u001b[0m\u001b[0;34m\u001b[0m\u001b[0;34m\u001b[0m\u001b[0;34m\u001b[0m\u001b[0m\n",
            "\u001b[0;32m/usr/local/lib/python3.6/dist-packages/torch/nn/modules/module.py\u001b[0m in \u001b[0;36m__setattr__\u001b[0;34m(self, name, value)\u001b[0m\n\u001b[1;32m    539\u001b[0m             type(self).__name__, name))\n\u001b[1;32m    540\u001b[0m \u001b[0;34m\u001b[0m\u001b[0m\n\u001b[0;32m--> 541\u001b[0;31m     \u001b[0;32mdef\u001b[0m \u001b[0m__setattr__\u001b[0m\u001b[0;34m(\u001b[0m\u001b[0mself\u001b[0m\u001b[0;34m,\u001b[0m \u001b[0mname\u001b[0m\u001b[0;34m,\u001b[0m \u001b[0mvalue\u001b[0m\u001b[0;34m)\u001b[0m\u001b[0;34m:\u001b[0m\u001b[0;34m\u001b[0m\u001b[0;34m\u001b[0m\u001b[0m\n\u001b[0m\u001b[1;32m    542\u001b[0m         \u001b[0;32mdef\u001b[0m \u001b[0mremove_from\u001b[0m\u001b[0;34m(\u001b[0m\u001b[0;34m*\u001b[0m\u001b[0mdicts\u001b[0m\u001b[0;34m)\u001b[0m\u001b[0;34m:\u001b[0m\u001b[0;34m\u001b[0m\u001b[0;34m\u001b[0m\u001b[0m\n\u001b[1;32m    543\u001b[0m             \u001b[0;32mfor\u001b[0m \u001b[0md\u001b[0m \u001b[0;32min\u001b[0m \u001b[0mdicts\u001b[0m\u001b[0;34m:\u001b[0m\u001b[0;34m\u001b[0m\u001b[0;34m\u001b[0m\u001b[0m\n",
            "\u001b[0;31mKeyboardInterrupt\u001b[0m: "
          ]
        }
      ]
    },
    {
      "cell_type": "code",
      "metadata": {
        "id": "CsVIR2ucBUI7",
        "colab_type": "code",
        "colab": {}
      },
      "source": [
        "torch.save(simple_model.state_dict(), 'simple_model.weights')"
      ],
      "execution_count": 0,
      "outputs": []
    },
    {
      "cell_type": "markdown",
      "metadata": {
        "id": "WOKFyGxf3dkQ",
        "colab_type": "text"
      },
      "source": [
        "# Evaluation"
      ]
    },
    {
      "cell_type": "code",
      "metadata": {
        "id": "reYP11IuGriR",
        "colab_type": "code",
        "colab": {
          "base_uri": "https://localhost:8080/",
          "height": 283
        },
        "outputId": "080bdbec-f639-4a36-ac10-474ac6768124"
      },
      "source": [
        "import timeit\n",
        "import spacy\n",
        "import matplotlib.pyplot as plt\n",
        "nlp = spacy.load('en')\n",
        "\n",
        "def predict_sentiment(model, sentence):\n",
        "    model.train_mode = False\n",
        "    tokenized = [tok.text for tok in nlp.tokenizer(sentence)]\n",
        "    indexed = [TEXT.vocab.stoi[t] for t in tokenized]\n",
        "    # tensor = torch.LongTensor(indexed).to(device)\n",
        "    tensor = torch.LongTensor(indexed).to('cpu')\n",
        "    tensor = tensor.unsqueeze(1)\n",
        "    model((tensor, torch.tensor([tensor.shape[0]]), None))\n",
        "    res = torch.sigmoid(model.label_predictions[0])\n",
        "    model.train_mode = False\n",
        "    return res\n",
        "\n",
        "times = []\n",
        "lengths=[]\n",
        "train_iterator, valid_iterator, test_iterator = data.BucketIterator.splits(\n",
        "    (train_data, valid_data, test_data), \n",
        "    batch_size=1,\n",
        "    device=device,\n",
        "    shuffle = True,\n",
        "    # sort_key=lambda x: len(x.text),\n",
        "    sort_within_batch=False)\n",
        "\n",
        "i = 0\n",
        "for _data in test_iterator:\n",
        "    if i%100 == 0:\n",
        "        # get the inputs\n",
        "        texts, text_lengths, labels = _data.text[0], _data.text[1], _data.label\n",
        "        # print(texts.shape, text_lengths.shape, labels.shape)\n",
        "        start_time = timeit.default_timer()\n",
        "        predictions = simple_model((texts.to(device), text_lengths.to(device), labels.to(device)))\n",
        "        elapsed = timeit.default_timer() - start_time\n",
        "        lengths.append(texts.shape[0])\n",
        "        times.append(elapsed)\n",
        "        # print(\"Input review texts, text_lengths, labels\", texts.shape, text_lengths.shape, labels.shape)\n",
        "    if i>20000:\n",
        "        break\n",
        "    i += 1\n",
        "\n",
        "import pickle\n",
        "\n",
        "pickle_out = open(\"test_times_2.pickle\",\"wb\")\n",
        "pickle.dump((lengths, times), pickle_out)\n",
        "pickle_out.close()\n",
        "\n",
        "\n",
        "plt.scatter(lengths, times)\n",
        "plt.xlabel('Lengths of review')\n",
        "plt.ylabel('Time taken for prediction')\n",
        "plt.show()"
      ],
      "execution_count": 38,
      "outputs": [
        {
          "output_type": "display_data",
          "data": {
            "image/png": "[encoded data removed]",
            "text/plain": [
              "<Figure size 432x288 with 1 Axes>"
            ]
          },
          "metadata": {
            "tags": []
          }
        }
      ]
    },
    {
      "cell_type": "code",
      "metadata": {
        "id": "1b4DUH5SGyNU",
        "colab_type": "code",
        "colab": {}
      },
      "source": [
        "predict_sentiment(simple_model, \"This film is terrible what can I say\")"
      ],
      "execution_count": 0,
      "outputs": []
    },
    {
      "cell_type": "code",
      "metadata": {
        "id": "qKDAunDL_IYb",
        "colab_type": "code",
        "colab": {}
      },
      "source": [
        "import pickle\n",
        "\n",
        "pickle_out = open(\"training_epochs_2.pickle\",\"wb\")\n",
        "pickle.dump((simple_model.training_accuracies, simple_model.validation_accuracies), pickle_out)\n",
        "pickle_out.close()"
      ],
      "execution_count": 0,
      "outputs": []
    },
    {
      "cell_type": "code",
      "metadata": {
        "id": "oiERmDzt_rcd",
        "colab_type": "code",
        "colab": {}
      },
      "source": [
        ""
      ],
      "execution_count": 0,
      "outputs": []
    }
  ]
}